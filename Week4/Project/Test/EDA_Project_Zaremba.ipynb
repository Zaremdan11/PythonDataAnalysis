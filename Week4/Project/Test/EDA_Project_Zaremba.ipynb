{
 "cells": [
  {
   "cell_type": "markdown",
   "metadata": {},
   "source": [
    "# EDA Project"
   ]
  },
  {
   "cell_type": "markdown",
   "metadata": {},
   "source": [
    "<div class=\"alert alert-block alert-info\">The EDA project in this course has four main parts to it: <br>\n",
    "    \n",
    "1. Project Proposal\n",
    "2. Phase 1\n",
    "3. Phase 2\n",
    "4. Report\n",
    "\n",
    "This notebook will be used for Project Proposal, Phase 1, and Phase 2. You will have specific questions to answer within this notebook for Project Proposal and Phase 1. You will also continue using this notebook for Phase 2. However, guidance and expectations can be found on Canvas for that assignment. The report is completed outside of this notebook (delivered as a PDF). Detailed instructions for that assignment are provided in Canvas.</div>"
   ]
  },
  {
   "cell_type": "markdown",
   "metadata": {},
   "source": [
    "<div class=\"alert alert-block alert-danger\"><b><font size=4>Read this before proceeding:</font></b>\n",
    "    \n",
    "1. Review the list of data sets and sources of data to avoid before choosing your data. This list is provided in the instructions for the Project Proposal assignment in Canvas.<br><br>  \n",
    "\n",
    "2. It is expected that when you are asked questions requiring typed explanations you are to use a <b><u>markdown cell</u></b> to type your answers neatly. <b><u><i>Do not provide typed answers to questions as extra comments within your code.</i></u></b> Only provide comments within your code as you normally would, i.e. as needed to explain or remind yourself what each part of the code is doing.</div>"
   ]
  },
  {
   "cell_type": "markdown",
   "metadata": {},
   "source": [
    "# Project Proposal"
   ]
  },
  {
   "cell_type": "markdown",
   "metadata": {},
   "source": [
    "<div class=\"alert alert-block alert-info\">The intent of this assignment is for you to share your chosen data file(s) with your instructor and provide general information on your goals for the EDA project.</div>"
   ]
  },
  {
   "cell_type": "markdown",
   "metadata": {},
   "source": [
    "<div class=\"alert alert-block alert-success\"><b>Step 1 (2 pts)</b>: Give a brief <i><u>description</u></i> of the source(s) of your data and include a <i><u>direct link</u></i> to your data.</div>"
   ]
  },
  {
   "cell_type": "code",
   "execution_count": null,
   "metadata": {},
   "outputs": [],
   "source": [
    "#The source of the data that I would like to have my project on is the Garden State MLS, I'm a new realtor and\n",
    "#have access to this data, this data is not available to the public, I have downloaded a withdrawn listings dataset\n",
    "# Houses in Westfield NJ that have withdrew their house on the market within the last 365days\n",
    "#https://mls.gsmls.com/member/\n"
   ]
  },
  {
   "cell_type": "markdown",
   "metadata": {},
   "source": [
    "<div class=\"alert alert-block alert-success\"><b>Step 2 (2 pts)</b>: Briefly explain why you chose this data.</div>"
   ]
  },
  {
   "cell_type": "code",
   "execution_count": null,
   "metadata": {},
   "outputs": [],
   "source": [
    "#I have a hypothesis that many people may have took their homes off the market in early spring when the pandemic began\n",
    "#I would like to use the data to uncover these individuals so that I may target my marketing towards them so I may get\n",
    "#their listing when they choose to relist their property"
   ]
  },
  {
   "cell_type": "markdown",
   "metadata": {},
   "source": [
    "<div class=\"alert alert-block alert-success\"><b>Step 3 (1 pt)</b>: Provide a brief overview of your goals for this project.</div>"
   ]
  },
  {
   "cell_type": "code",
   "execution_count": null,
   "metadata": {},
   "outputs": [],
   "source": [
    "#Goal is to read in the withdrawn houses dataset then filter that population by property type\n",
    "#and last list price etc. I have a finite amount of money that I can apply for marketing so I must focus on those\n",
    "#with the higher list price as this will mean a higher commision for me"
   ]
  },
  {
   "cell_type": "markdown",
   "metadata": {},
   "source": [
    "<div class=\"alert alert-block alert-success\"><b>Step 4 (1 pt)</b>: Read the data into this notebook.</div>"
   ]
  },
  {
   "cell_type": "code",
   "execution_count": 8,
   "metadata": {},
   "outputs": [],
   "source": [
    "import pandas as pd\n",
    "#pd.set_option('display.max_rows', None)\n",
    "pd.set_option('display.max_columns', None)\n",
    "pd.set_option('display.width', None)\n",
    "pd.set_option('display.max_colwidth', None)\n",
    "\n",
    "# load for visuals\n",
    "import seaborn as sns\n",
    "import matplotlib.pyplot as plt\n",
    "import plotly.express as px\n",
    "\n",
    "WithdrawnHouses = pd.read_excel('WithdrawnScotch.xls')\n"
   ]
  },
  {
   "cell_type": "markdown",
   "metadata": {},
   "source": [
    "<div class=\"alert alert-block alert-success\"><b>Step 5 (1 pt)</b>: Inspect the data using the <b>info(&nbsp;)</b>, <b>head(&nbsp;)</b>, and <b>tail(&nbsp;)</b> methods.</div>"
   ]
  },
  {
   "cell_type": "code",
   "execution_count": 106,
   "metadata": {
    "scrolled": false
   },
   "outputs": [
    {
     "name": "stdout",
     "output_type": "stream",
     "text": [
      "<class 'pandas.core.frame.DataFrame'>\n",
      "RangeIndex: 192 entries, 0 to 191\n",
      "Data columns (total 51 columns):\n",
      " #   Column            Non-Null Count  Dtype  \n",
      "---  ------            --------------  -----  \n",
      " 0   ACRES             188 non-null    object \n",
      " 1   BATHSFULLTOTAL    192 non-null    int64  \n",
      " 2   BATHSHALFTOTAL    192 non-null    int64  \n",
      " 3   BEDS              192 non-null    int64  \n",
      " 4   DAYSONMARKET      192 non-null    int64  \n",
      " 5   EXPIREDATE        192 non-null    object \n",
      " 6   LISTPRICE         192 non-null    int64  \n",
      " 7   MLSNUM            192 non-null    int64  \n",
      " 8   ORIGLISTPRICE     192 non-null    int64  \n",
      " 9   OWNERNAME         192 non-null    object \n",
      " 10  OWNERPHONE        23 non-null     object \n",
      " 11  ROOMS             192 non-null    int64  \n",
      " 12  STREETNAME        192 non-null    object \n",
      " 13  STREETNUMDISPLAY  192 non-null    object \n",
      " 14  TAXAMOUNT         192 non-null    int64  \n",
      " 15  TAXYEAR           192 non-null    int64  \n",
      " 16  TOWN              192 non-null    object \n",
      " 17  UNITNUM           11 non-null     object \n",
      " 18  WITHDRAWNDATE     192 non-null    object \n",
      " 19  YEARBUILT         192 non-null    int64  \n",
      " 20  ZIPCODE           192 non-null    object \n",
      " 21  ZONING            64 non-null     object \n",
      " 22  ASSESSFARM        53 non-null     object \n",
      " 23  BASEDESC          180 non-null    object \n",
      " 24  BASEMENT          192 non-null    object \n",
      " 25  BED1LEVEL         178 non-null    object \n",
      " 26  BED2LEVEL         171 non-null    float64\n",
      " 27  BED3LEVEL         163 non-null    float64\n",
      " 28  BED4LEVEL         130 non-null    object \n",
      " 29  COMMLIVING        192 non-null    object \n",
      " 30  COOLSYSTEM        192 non-null    object \n",
      " 31  DISCLOSUREAVAIL   146 non-null    object \n",
      " 32  DRIVEWAYDESC      192 non-null    object \n",
      " 33  EXTERIOR          162 non-null    object \n",
      " 34  FIREPLACEDESC     151 non-null    object \n",
      " 35  FLOODINSUR        0 non-null      float64\n",
      " 36  FLOODZONE         0 non-null      float64\n",
      " 37  FLOORS            165 non-null    object \n",
      " 38  HEATSRC           192 non-null    object \n",
      " 39  OWNERSHIP         192 non-null    object \n",
      " 40  POOL              111 non-null    object \n",
      " 41  POOLDESC          13 non-null     object \n",
      " 42  ROOF              192 non-null    object \n",
      " 43  SIDING            192 non-null    object \n",
      " 44  STATUS            192 non-null    object \n",
      " 45  STYLE             192 non-null    object \n",
      " 46  WARRANTY          89 non-null     object \n",
      " 47  OFFICENAME        192 non-null    object \n",
      " 48  AGENTNAME         192 non-null    object \n",
      " 49  AGENTPHONE        82 non-null     object \n",
      " 50  SUBPROPTYPE       192 non-null    object \n",
      "dtypes: float64(4), int64(11), object(36)\n",
      "memory usage: 76.6+ KB\n"
     ]
    },
    {
     "data": {
      "text/html": [
       "<div>\n",
       "<style scoped>\n",
       "    .dataframe tbody tr th:only-of-type {\n",
       "        vertical-align: middle;\n",
       "    }\n",
       "\n",
       "    .dataframe tbody tr th {\n",
       "        vertical-align: top;\n",
       "    }\n",
       "\n",
       "    .dataframe thead th {\n",
       "        text-align: right;\n",
       "    }\n",
       "</style>\n",
       "<table border=\"1\" class=\"dataframe\">\n",
       "  <thead>\n",
       "    <tr style=\"text-align: right;\">\n",
       "      <th></th>\n",
       "      <th>ACRES</th>\n",
       "      <th>BATHSFULLTOTAL</th>\n",
       "      <th>BATHSHALFTOTAL</th>\n",
       "      <th>BEDS</th>\n",
       "      <th>DAYSONMARKET</th>\n",
       "      <th>EXPIREDATE</th>\n",
       "      <th>LISTPRICE</th>\n",
       "      <th>MLSNUM</th>\n",
       "      <th>ORIGLISTPRICE</th>\n",
       "      <th>OWNERNAME</th>\n",
       "      <th>OWNERPHONE</th>\n",
       "      <th>ROOMS</th>\n",
       "      <th>STREETNAME</th>\n",
       "      <th>STREETNUMDISPLAY</th>\n",
       "      <th>TAXAMOUNT</th>\n",
       "      <th>TAXYEAR</th>\n",
       "      <th>TOWN</th>\n",
       "      <th>UNITNUM</th>\n",
       "      <th>WITHDRAWNDATE</th>\n",
       "      <th>YEARBUILT</th>\n",
       "      <th>ZIPCODE</th>\n",
       "      <th>ZONING</th>\n",
       "      <th>ASSESSFARM</th>\n",
       "      <th>BASEDESC</th>\n",
       "      <th>BASEMENT</th>\n",
       "      <th>BED1LEVEL</th>\n",
       "      <th>BED2LEVEL</th>\n",
       "      <th>BED3LEVEL</th>\n",
       "      <th>BED4LEVEL</th>\n",
       "      <th>COMMLIVING</th>\n",
       "      <th>COOLSYSTEM</th>\n",
       "      <th>DISCLOSUREAVAIL</th>\n",
       "      <th>DRIVEWAYDESC</th>\n",
       "      <th>EXTERIOR</th>\n",
       "      <th>FIREPLACEDESC</th>\n",
       "      <th>FLOODINSUR</th>\n",
       "      <th>FLOODZONE</th>\n",
       "      <th>FLOORS</th>\n",
       "      <th>HEATSRC</th>\n",
       "      <th>OWNERSHIP</th>\n",
       "      <th>POOL</th>\n",
       "      <th>POOLDESC</th>\n",
       "      <th>ROOF</th>\n",
       "      <th>SIDING</th>\n",
       "      <th>STATUS</th>\n",
       "      <th>STYLE</th>\n",
       "      <th>WARRANTY</th>\n",
       "      <th>OFFICENAME</th>\n",
       "      <th>AGENTNAME</th>\n",
       "      <th>AGENTPHONE</th>\n",
       "      <th>SUBPROPTYPE</th>\n",
       "    </tr>\n",
       "  </thead>\n",
       "  <tbody>\n",
       "    <tr>\n",
       "      <th>0</th>\n",
       "      <td>0.15*</td>\n",
       "      <td>2</td>\n",
       "      <td>1</td>\n",
       "      <td>5</td>\n",
       "      <td>69</td>\n",
       "      <td>12/11/2019 00:00:00</td>\n",
       "      <td>734900</td>\n",
       "      <td>3586513</td>\n",
       "      <td>734900</td>\n",
       "      <td>ZELLNER, MELISSA &amp; PHELPS, ALLEN*</td>\n",
       "      <td>NaN</td>\n",
       "      <td>9</td>\n",
       "      <td>Crescent Pkwy*</td>\n",
       "      <td>766</td>\n",
       "      <td>15729</td>\n",
       "      <td>2019</td>\n",
       "      <td>Westfield Town*(2920*)</td>\n",
       "      <td>NaN</td>\n",
       "      <td>11/19/2019 00:00:00</td>\n",
       "      <td>1940</td>\n",
       "      <td>07090-2304*</td>\n",
       "      <td>Residential</td>\n",
       "      <td>N</td>\n",
       "      <td>FinPart</td>\n",
       "      <td>Y</td>\n",
       "      <td>2</td>\n",
       "      <td>2.0</td>\n",
       "      <td>2.0</td>\n",
       "      <td>2</td>\n",
       "      <td>N</td>\n",
       "      <td>1Unit,Central</td>\n",
       "      <td>Y</td>\n",
       "      <td>1CarWide,Blacktop</td>\n",
       "      <td>Storage,Patio,Deck</td>\n",
       "      <td>Gas,LivingRm</td>\n",
       "      <td>NaN</td>\n",
       "      <td>NaN</td>\n",
       "      <td>Laminate,Tile,Wood</td>\n",
       "      <td>GasNatur</td>\n",
       "      <td>FeeSimpl</td>\n",
       "      <td>N</td>\n",
       "      <td>NaN</td>\n",
       "      <td>AsphShng</td>\n",
       "      <td>Stone,Wood</td>\n",
       "      <td>W</td>\n",
       "      <td>Colonial,</td>\n",
       "      <td>N</td>\n",
       "      <td>BHHS - NEW JERSEY PROPERTIES</td>\n",
       "      <td>PETER JORDAN</td>\n",
       "      <td>9082325664</td>\n",
       "      <td>SinglFam</td>\n",
       "    </tr>\n",
       "    <tr>\n",
       "      <th>1</th>\n",
       "      <td>0.66*</td>\n",
       "      <td>3</td>\n",
       "      <td>1</td>\n",
       "      <td>6</td>\n",
       "      <td>492</td>\n",
       "      <td>01/17/2020 00:00:00</td>\n",
       "      <td>1299000</td>\n",
       "      <td>3500553</td>\n",
       "      <td>1305000</td>\n",
       "      <td>On file</td>\n",
       "      <td>NaN</td>\n",
       "      <td>12</td>\n",
       "      <td>W DUDLEY AVE*</td>\n",
       "      <td>234</td>\n",
       "      <td>24058</td>\n",
       "      <td>2017</td>\n",
       "      <td>Westfield Town*(2920*)</td>\n",
       "      <td>NaN</td>\n",
       "      <td>01/15/2020 00:00:00</td>\n",
       "      <td>1900</td>\n",
       "      <td>07090-4018*</td>\n",
       "      <td>Residential</td>\n",
       "      <td>NaN</td>\n",
       "      <td>Full,Unfinish</td>\n",
       "      <td>Y</td>\n",
       "      <td>NaN</td>\n",
       "      <td>2.0</td>\n",
       "      <td>2.0</td>\n",
       "      <td>2</td>\n",
       "      <td>N</td>\n",
       "      <td>CeilFan,Central</td>\n",
       "      <td>Y</td>\n",
       "      <td>2CarWide,Blacktop</td>\n",
       "      <td>EnclPrch,Sidewalk</td>\n",
       "      <td>Heatoltr,LivingRm,WoodBurn</td>\n",
       "      <td>NaN</td>\n",
       "      <td>NaN</td>\n",
       "      <td>Carpet,Tile,Wood</td>\n",
       "      <td>GasNatur</td>\n",
       "      <td>FeeSimpl</td>\n",
       "      <td>NaN</td>\n",
       "      <td>NaN</td>\n",
       "      <td>AsphShng</td>\n",
       "      <td>Clapbrd</td>\n",
       "      <td>W</td>\n",
       "      <td>Colonial,Victrian</td>\n",
       "      <td>Y</td>\n",
       "      <td>COLDWELL BANKER REALTY - EAST</td>\n",
       "      <td>JAYNE BERNSTEIN</td>\n",
       "      <td>NaN</td>\n",
       "      <td>SinglFam</td>\n",
       "    </tr>\n",
       "    <tr>\n",
       "      <th>2</th>\n",
       "      <td>0.21*</td>\n",
       "      <td>1</td>\n",
       "      <td>1</td>\n",
       "      <td>3</td>\n",
       "      <td>358</td>\n",
       "      <td>10/18/2019 00:00:00</td>\n",
       "      <td>425000</td>\n",
       "      <td>3510091</td>\n",
       "      <td>450000</td>\n",
       "      <td>ALLEN, PRESTINE M &amp; JEANINE*</td>\n",
       "      <td>NaN</td>\n",
       "      <td>7</td>\n",
       "      <td>E BROAD ST*</td>\n",
       "      <td>1061</td>\n",
       "      <td>10263</td>\n",
       "      <td>2017</td>\n",
       "      <td>Westfield Town*(2920*)</td>\n",
       "      <td>NaN</td>\n",
       "      <td>10/11/2019 00:00:00</td>\n",
       "      <td>1925</td>\n",
       "      <td>07090-1132*</td>\n",
       "      <td>NaN</td>\n",
       "      <td>NaN</td>\n",
       "      <td>Full,Unfinish</td>\n",
       "      <td>Y</td>\n",
       "      <td>2</td>\n",
       "      <td>2.0</td>\n",
       "      <td>2.0</td>\n",
       "      <td>NaN</td>\n",
       "      <td>N</td>\n",
       "      <td>1Unit,Central</td>\n",
       "      <td>NaN</td>\n",
       "      <td>1CarWide,SeeRem</td>\n",
       "      <td>Patio</td>\n",
       "      <td>NaN</td>\n",
       "      <td>NaN</td>\n",
       "      <td>NaN</td>\n",
       "      <td>NaN</td>\n",
       "      <td>GasNatur</td>\n",
       "      <td>FeeSimpl</td>\n",
       "      <td>N</td>\n",
       "      <td>NaN</td>\n",
       "      <td>AsphShng</td>\n",
       "      <td>Vinyl</td>\n",
       "      <td>W</td>\n",
       "      <td>Colonial,Detached,FixrUppr</td>\n",
       "      <td>NaN</td>\n",
       "      <td>WEICHERT REALTORS</td>\n",
       "      <td>JEFFREY CAGIDE</td>\n",
       "      <td>NaN</td>\n",
       "      <td>SinglFam</td>\n",
       "    </tr>\n",
       "    <tr>\n",
       "      <th>3</th>\n",
       "      <td>0.26*</td>\n",
       "      <td>3</td>\n",
       "      <td>1</td>\n",
       "      <td>4</td>\n",
       "      <td>216</td>\n",
       "      <td>07/19/2020 00:00:00</td>\n",
       "      <td>1299000</td>\n",
       "      <td>3583759</td>\n",
       "      <td>1299000</td>\n",
       "      <td>Gialluisi Homes</td>\n",
       "      <td>NaN</td>\n",
       "      <td>9</td>\n",
       "      <td>ONEIDA DR*</td>\n",
       "      <td>2</td>\n",
       "      <td>27929</td>\n",
       "      <td>2019</td>\n",
       "      <td>Westfield Town*(2920*)</td>\n",
       "      <td>NaN</td>\n",
       "      <td>04/03/2020 00:00:00</td>\n",
       "      <td>2019</td>\n",
       "      <td>07090-2743*</td>\n",
       "      <td>NaN</td>\n",
       "      <td>N</td>\n",
       "      <td>Full,Unfinish</td>\n",
       "      <td>Y</td>\n",
       "      <td>2</td>\n",
       "      <td>2.0</td>\n",
       "      <td>2.0</td>\n",
       "      <td>2</td>\n",
       "      <td>N</td>\n",
       "      <td>1Unit,Central,MultiZon</td>\n",
       "      <td>NaN</td>\n",
       "      <td>2CarWide,Blacktop,DrvExclu</td>\n",
       "      <td>Patio,ThrmlW&amp;D,Sprinklr</td>\n",
       "      <td>FamilyRm,Gas</td>\n",
       "      <td>NaN</td>\n",
       "      <td>NaN</td>\n",
       "      <td>Tile,Wood</td>\n",
       "      <td>GasNatur</td>\n",
       "      <td>FeeSimpl</td>\n",
       "      <td>N</td>\n",
       "      <td>NaN</td>\n",
       "      <td>AsphShng</td>\n",
       "      <td>CompShng,Stone</td>\n",
       "      <td>W</td>\n",
       "      <td>Colonial,Custom</td>\n",
       "      <td>Y</td>\n",
       "      <td>KELLER WILLIAMS REALTY</td>\n",
       "      <td>SUSAN DEVANEY</td>\n",
       "      <td>NaN</td>\n",
       "      <td>SinglFam</td>\n",
       "    </tr>\n",
       "    <tr>\n",
       "      <th>4</th>\n",
       "      <td>0.36*</td>\n",
       "      <td>5</td>\n",
       "      <td>1</td>\n",
       "      <td>5</td>\n",
       "      <td>326</td>\n",
       "      <td>01/03/2020 00:00:00</td>\n",
       "      <td>1429000</td>\n",
       "      <td>3522971</td>\n",
       "      <td>1429000</td>\n",
       "      <td>ANTHEM PROPERTY VENTURES LLC*</td>\n",
       "      <td>NaN</td>\n",
       "      <td>9</td>\n",
       "      <td>DORIAN RD*</td>\n",
       "      <td>618</td>\n",
       "      <td>13908</td>\n",
       "      <td>2018</td>\n",
       "      <td>Westfield Town*(2920*)</td>\n",
       "      <td>NaN</td>\n",
       "      <td>11/25/2019 00:00:00</td>\n",
       "      <td>2019</td>\n",
       "      <td>07090-3339*</td>\n",
       "      <td>NaN</td>\n",
       "      <td>N</td>\n",
       "      <td>Walkout,Finished,Full</td>\n",
       "      <td>Y</td>\n",
       "      <td>2</td>\n",
       "      <td>2.0</td>\n",
       "      <td>2.0</td>\n",
       "      <td>2</td>\n",
       "      <td>N</td>\n",
       "      <td>MultiZon,2Units,Central</td>\n",
       "      <td>N</td>\n",
       "      <td>2CarWide,Blacktop</td>\n",
       "      <td>Sprinklr,Patio,Curbs,OpenPrch,Sidewalk,ThrmlW&amp;D</td>\n",
       "      <td>FamilyRm</td>\n",
       "      <td>NaN</td>\n",
       "      <td>NaN</td>\n",
       "      <td>Tile,Wood</td>\n",
       "      <td>GasNatur</td>\n",
       "      <td>FeeSimpl</td>\n",
       "      <td>N</td>\n",
       "      <td>NaN</td>\n",
       "      <td>AsphShng</td>\n",
       "      <td>CompSide</td>\n",
       "      <td>W</td>\n",
       "      <td>Colonial,Custom</td>\n",
       "      <td>Y</td>\n",
       "      <td>DAVID REALTY GROUP LLC</td>\n",
       "      <td>LORRAINE MACALUSO</td>\n",
       "      <td>908-578-3687</td>\n",
       "      <td>SinglFam</td>\n",
       "    </tr>\n",
       "  </tbody>\n",
       "</table>\n",
       "</div>"
      ],
      "text/plain": [
       "   ACRES  BATHSFULLTOTAL  BATHSHALFTOTAL  BEDS  DAYSONMARKET  \\\n",
       "0  0.15*               2               1     5            69   \n",
       "1  0.66*               3               1     6           492   \n",
       "2  0.21*               1               1     3           358   \n",
       "3  0.26*               3               1     4           216   \n",
       "4  0.36*               5               1     5           326   \n",
       "\n",
       "            EXPIREDATE  LISTPRICE   MLSNUM  ORIGLISTPRICE  \\\n",
       "0  12/11/2019 00:00:00     734900  3586513         734900   \n",
       "1  01/17/2020 00:00:00    1299000  3500553        1305000   \n",
       "2  10/18/2019 00:00:00     425000  3510091         450000   \n",
       "3  07/19/2020 00:00:00    1299000  3583759        1299000   \n",
       "4  01/03/2020 00:00:00    1429000  3522971        1429000   \n",
       "\n",
       "                           OWNERNAME OWNERPHONE  ROOMS      STREETNAME  \\\n",
       "0  ZELLNER, MELISSA & PHELPS, ALLEN*        NaN      9  Crescent Pkwy*   \n",
       "1                            On file        NaN     12   W DUDLEY AVE*   \n",
       "2       ALLEN, PRESTINE M & JEANINE*        NaN      7     E BROAD ST*   \n",
       "3                    Gialluisi Homes        NaN      9      ONEIDA DR*   \n",
       "4      ANTHEM PROPERTY VENTURES LLC*        NaN      9      DORIAN RD*   \n",
       "\n",
       "  STREETNUMDISPLAY  TAXAMOUNT  TAXYEAR                    TOWN UNITNUM  \\\n",
       "0              766      15729     2019  Westfield Town*(2920*)     NaN   \n",
       "1              234      24058     2017  Westfield Town*(2920*)     NaN   \n",
       "2             1061      10263     2017  Westfield Town*(2920*)     NaN   \n",
       "3                2      27929     2019  Westfield Town*(2920*)     NaN   \n",
       "4              618      13908     2018  Westfield Town*(2920*)     NaN   \n",
       "\n",
       "         WITHDRAWNDATE  YEARBUILT      ZIPCODE       ZONING ASSESSFARM  \\\n",
       "0  11/19/2019 00:00:00       1940  07090-2304*  Residential          N   \n",
       "1  01/15/2020 00:00:00       1900  07090-4018*  Residential        NaN   \n",
       "2  10/11/2019 00:00:00       1925  07090-1132*          NaN        NaN   \n",
       "3  04/03/2020 00:00:00       2019  07090-2743*          NaN          N   \n",
       "4  11/25/2019 00:00:00       2019  07090-3339*          NaN          N   \n",
       "\n",
       "                BASEDESC BASEMENT BED1LEVEL  BED2LEVEL  BED3LEVEL BED4LEVEL  \\\n",
       "0                FinPart        Y         2        2.0        2.0         2   \n",
       "1          Full,Unfinish        Y       NaN        2.0        2.0         2   \n",
       "2          Full,Unfinish        Y         2        2.0        2.0       NaN   \n",
       "3          Full,Unfinish        Y         2        2.0        2.0         2   \n",
       "4  Walkout,Finished,Full        Y         2        2.0        2.0         2   \n",
       "\n",
       "  COMMLIVING               COOLSYSTEM DISCLOSUREAVAIL  \\\n",
       "0          N            1Unit,Central               Y   \n",
       "1          N          CeilFan,Central               Y   \n",
       "2          N            1Unit,Central             NaN   \n",
       "3          N   1Unit,Central,MultiZon             NaN   \n",
       "4          N  MultiZon,2Units,Central               N   \n",
       "\n",
       "                 DRIVEWAYDESC  \\\n",
       "0           1CarWide,Blacktop   \n",
       "1           2CarWide,Blacktop   \n",
       "2             1CarWide,SeeRem   \n",
       "3  2CarWide,Blacktop,DrvExclu   \n",
       "4           2CarWide,Blacktop   \n",
       "\n",
       "                                          EXTERIOR  \\\n",
       "0                               Storage,Patio,Deck   \n",
       "1                                EnclPrch,Sidewalk   \n",
       "2                                            Patio   \n",
       "3                          Patio,ThrmlW&D,Sprinklr   \n",
       "4  Sprinklr,Patio,Curbs,OpenPrch,Sidewalk,ThrmlW&D   \n",
       "\n",
       "                FIREPLACEDESC  FLOODINSUR  FLOODZONE              FLOORS  \\\n",
       "0                Gas,LivingRm         NaN        NaN  Laminate,Tile,Wood   \n",
       "1  Heatoltr,LivingRm,WoodBurn         NaN        NaN    Carpet,Tile,Wood   \n",
       "2                         NaN         NaN        NaN                 NaN   \n",
       "3                FamilyRm,Gas         NaN        NaN           Tile,Wood   \n",
       "4                    FamilyRm         NaN        NaN           Tile,Wood   \n",
       "\n",
       "    HEATSRC OWNERSHIP POOL POOLDESC      ROOF          SIDING STATUS  \\\n",
       "0  GasNatur  FeeSimpl    N      NaN  AsphShng      Stone,Wood      W   \n",
       "1  GasNatur  FeeSimpl  NaN      NaN  AsphShng         Clapbrd      W   \n",
       "2  GasNatur  FeeSimpl    N      NaN  AsphShng           Vinyl      W   \n",
       "3  GasNatur  FeeSimpl    N      NaN  AsphShng  CompShng,Stone      W   \n",
       "4  GasNatur  FeeSimpl    N      NaN  AsphShng        CompSide      W   \n",
       "\n",
       "                        STYLE WARRANTY                     OFFICENAME  \\\n",
       "0                   Colonial,        N   BHHS - NEW JERSEY PROPERTIES   \n",
       "1           Colonial,Victrian        Y  COLDWELL BANKER REALTY - EAST   \n",
       "2  Colonial,Detached,FixrUppr      NaN              WEICHERT REALTORS   \n",
       "3             Colonial,Custom        Y         KELLER WILLIAMS REALTY   \n",
       "4             Colonial,Custom        Y         DAVID REALTY GROUP LLC   \n",
       "\n",
       "           AGENTNAME    AGENTPHONE SUBPROPTYPE  \n",
       "0       PETER JORDAN    9082325664    SinglFam  \n",
       "1    JAYNE BERNSTEIN           NaN    SinglFam  \n",
       "2     JEFFREY CAGIDE           NaN    SinglFam  \n",
       "3      SUSAN DEVANEY           NaN    SinglFam  \n",
       "4  LORRAINE MACALUSO  908-578-3687    SinglFam  "
      ]
     },
     "execution_count": 106,
     "metadata": {},
     "output_type": "execute_result"
    }
   ],
   "source": [
    "# TODO: Use the info() method to determine to inspect the variable (column) names, the number of non-null values,\n",
    "#       and the data types for each variable.\n",
    "WithdrawnHouses.info()\n",
    "WithdrawnHouses.head()"
   ]
  },
  {
   "cell_type": "markdown",
   "metadata": {},
   "source": [
    "<div class=\"alert alert-block alert-danger\"><b>STOP HERE for your Project Proposal assignment. Submit your (1) original data file(s) along with (2) the completed notebook up to this point, and (3) the html file for grading and approval.</b></div>"
   ]
  },
  {
   "cell_type": "markdown",
   "metadata": {},
   "source": [
    "<div class=\"alert alert-block alert-warning\"><b>Instructor Feedback and Approval (3 pts)</b>: Your instructor will provide feedback in either the cell below this or via Canvas. You can expect one of the following point values for this portion.\n",
    "\n",
    "<b>3 pts</b> - if your project goals and data set are both approved.<br>\n",
    "<b>2 pts</b> - if your data set is approved but changes to your project goals (Step 3) are needed.<br>\n",
    "<b>1 pt</b> - if your project goals are approved but your data set is not approved.<br>\n",
    "<b>0 pts</b> - if neither your data set nor your project goals are approved.<br><br>\n",
    "    \n",
    "<i><u>As needed, follow your instructor's feeback and guidance to get on track for the remaining portions of the EDA project.</u></i>\n",
    "</div>"
   ]
  },
  {
   "cell_type": "code",
   "execution_count": null,
   "metadata": {},
   "outputs": [],
   "source": []
  },
  {
   "cell_type": "markdown",
   "metadata": {},
   "source": [
    "# EDA Phase 1"
   ]
  },
  {
   "cell_type": "markdown",
   "metadata": {},
   "source": [
    "<div class=\"alert alert-block alert-info\">The overall goal of this assignment is to take all necessary steps to inspect the quality of your data and prepare the data according to your needs. For information and resources on the process of Exploratory Data Analysis (EDA), you should explore the <b><u>EDA Project Resources Module</u></b> in Canvas.\n",
    "\n",
    "Once you’ve read through the information provided in that module and have a comfortable understanding of EDA using Python, complete steps 6 through 10 listed below to satisfy the requirements for your EDA Phase 1 assignment. **Remember to convert code cells provided to markdown cells for any typed responses to questions.**</div>"
   ]
  },
  {
   "cell_type": "markdown",
   "metadata": {},
   "source": [
    "<div class=\"alert alert-block alert-success\"><b>Step 6 (2 pts)</b>: Begin by elaborating in more detail from the previous assignment on why you chose this data?<br>\n",
    "    \n",
    "1. Explain what you hope to learn from this data. \n",
    "2. Do you have a hunch about what this data will reveal? (The answer to this question will be used in the Introduction section of your EDA report.)\n",
    "</div>"
   ]
  },
  {
   "cell_type": "code",
   "execution_count": null,
   "metadata": {},
   "outputs": [],
   "source": [
    "# I am a new realtor, and I need to find clients to list their homes, I hypothesis that many people in tthe \n",
    "# spring of 2020 took their house off the market due to Covid, these houses are reflected as Withdrawn in the MLS\n",
    "# I suspect that many still want to move and will put their house on the market again possible in early 2021,\n",
    "# I would like to filter the data for single family houses, and see additional details about these houses like previous\n",
    "# list price to focus my time and energy on the listings that can bring in the highest return on my investment"
   ]
  },
  {
   "cell_type": "markdown",
   "metadata": {},
   "source": [
    "<div class=\"alert alert-block alert-success\"><b>Step 7 (2 pts)</b>: Discuss the popluation and the sample:<br>\n",
    "    \n",
    "1. What is the population being represented by the data you’ve chosen? \n",
    "2. What is the total sample size?\n",
    "</div>"
   ]
  },
  {
   "cell_type": "code",
   "execution_count": 107,
   "metadata": {},
   "outputs": [
    {
     "data": {
      "text/plain": [
       "(192, 51)"
      ]
     },
     "execution_count": 107,
     "metadata": {},
     "output_type": "execute_result"
    }
   ],
   "source": [
    "#1. the population is the withdrawn houses in Westfield NJ, it contains all the granular details about the property and \n",
    "# listing information\n",
    "\n",
    "#2. Sample size is 192 houses\n",
    "WithdrawnHouses.shape"
   ]
  },
  {
   "cell_type": "markdown",
   "metadata": {},
   "source": [
    "<div class=\"alert alert-block alert-success\"><b>Step 8 (2 pts)</b>: Describe how the data was collected. For example, is this a random sample? Are sampling weights used with the data?</div>"
   ]
  },
  {
   "cell_type": "code",
   "execution_count": null,
   "metadata": {},
   "outputs": [],
   "source": [
    "# The data was collected for the Garden State MLS site, specifically for Withdrawn houses in Westfield NJ in the last\n",
    "# 365 days"
   ]
  },
  {
   "cell_type": "markdown",
   "metadata": {},
   "source": [
    "<div class=\"alert alert-block alert-success\"><b>Step 9 (4 pts)</b>: In the Project Proposal assignment you used the info(&nbsp;) method to inspect the variables, their data types, and the number of non-null values. Using that information as a guide, provide definitions of each of your variables and their corresponding data types, i.e. a data dictionary. Also indicate which variables will be used for your purposes.</div>"
   ]
  },
  {
   "cell_type": "code",
   "execution_count": null,
   "metadata": {},
   "outputs": [],
   "source": [
    " #   Column            Non-Null Count  Dtype  \n",
    "---  ------            --------------  -----  \n",
    "#  0   ACRES             188 non-null    object  = acres of the property\n",
    "#  1   BATHSFULLTOTAL    192 non-null    int64  = number of full baths of the property\n",
    "#  2   BATHSHALFTOTAL    192 non-null    int64  = number of half baths of the property\n",
    "#  3   BEDS              192 non-null    int64  = number of bedrooms the property has\n",
    "#  4   DAYSONMARKET      192 non-null    int64  = how many days the property was on the market before it was Withdrawn\n",
    "#  5   EXPIREDATE        192 non-null    object = Date the listing expires\n",
    "#  6   LISTPRICE         192 non-null    int64  = The latest list price before being Withdrawn\n",
    "#  7   MLSNUM            192 non-null    int64  = The MLS ID number of the property listing\n",
    "#  8   ORIGLISTPRICE     192 non-null    int64  = The original list price of the property\n",
    "#  9   OWNERNAME         192 non-null    object = Owner's name\n",
    "#  10  OWNERPHONE        23 non-null     object = Owner's phone\n",
    "#  11  ROOMS             192 non-null    int64  = The number of rooms the property has\n",
    "#  12  STREETNAME        192 non-null    object = The property street name\n",
    "#  14  STREETNUMDISPLAY  192 non-null    object = The property street number \n",
    "#  14  TAXAMOUNT         192 non-null    int64  = The annual property tax amount\n",
    "#  15  TAXYEAR           192 non-null    int64  = Tax Year\n",
    "#  16  TOWN              192 non-null    object = Town\n",
    "#  17  UNITNUM           11 non-null     object = Condo/Co-op/Townhouse Unit Number\n",
    "#  18  WITHDRAWNDATE     192 non-null    object = Withdrawn Date\n",
    "#  19  YEARBUILT         192 non-null    int64  = Year the property was built\n",
    "#  20  ZIPCODE           192 non-null    object = The property zipcode\n",
    "#  21  ZONING            64 non-null     object = Zoning\n",
    "#  22  ASSESSFARM        53 non-null     object = Assessed Farmland\n",
    "#  23  BASEDESC          180 non-null    object = Description of the basement\n",
    "#  24  BASEMENT          192 non-null    object = Basement (Y or N)\n",
    "#  25  BED1LEVEL         178 non-null    object  = Number of bedrooms on the 1st level of the property\n",
    "#  26  BED2LEVEL         171 non-null    float64 = Number of bedrooms on the 2nd level of the property\n",
    "#  27  BED3LEVEL         163 non-null    float64 = = Number of bedrooms on the 3rd level of the property\n",
    "#  28  BED4LEVEL         130 non-null    object = Number of bedrooms on the 4th level of the property\n",
    "#  29  COMMLIVING        192 non-null    object = Number of bedrooms on the 4th level of the property\n",
    "#  30  COOLSYSTEM        192 non-null    object = Type of property cooling system\n",
    "#  31  DISCLOSUREAVAIL   146 non-null    object = Whether a disclosure is available\n",
    "#  32  DRIVEWAYDESC      192 non-null    object = Description of the driveway\n",
    "#  33  EXTERIOR          162 non-null    object = Description of the property exterior\n",
    "#  34  FIREPLACEDESC     151 non-null    object  = Description of fireplace\n",
    "#  35  FLOODINSUR        0 non-null      float64 = Whether flood insurance is required\n",
    "#  36  FLOODZONE         0 non-null      float64 = Whether property is in a flood zone\n",
    "#  37  FLOORS            165 non-null    object = Description of the property floors\n",
    "#  38  HEATSRC           192 non-null    object = Type of property heating source\n",
    "#  39  OWNERSHIP         192 non-null    object = Property ownership type\n",
    "#  40  POOL              111 non-null    object = Whether the property has a pool\n",
    "#  41  POOLDESC          13 non-null     object = Description of pool\n",
    "#  42  ROOF              192 non-null    object = Type of roof\n",
    "#  43  SIDING            192 non-null    object = Type of siding\n",
    "#  44  STATUS            192 non-null    object = Property status\n",
    "#  45  STYLE             192 non-null    object = Property style\n",
    "#  46  WARRANTY          89 non-null     object = Whether a warranty is included \n",
    "#  47  OFFICENAME        192 non-null    object = The brokerage office name\n",
    "#  48  AGENTNAME         192 non-null    object = Name of withdrawn listing agent\n",
    "#  49  AGENTPHONE        82 non-null     object = Number of withdrawn listing agent\n",
    "#  50  SUBPROPTYPE       192 non-null    object = Type of property, i.e. single family or condo/co-op/townhouse\n",
    "\n",
    "# For my purposes I would use the following fields\n",
    "#Status\n",
    "#SUBPROPTYPE\n",
    "#WITHDRAWNDATE\n",
    "#DAYSONMARKET\n",
    "#LISTPRICE\n",
    "#STREETNAME\n",
    "#STREETNUMDISPLAY\n",
    "#UNITNUM\n",
    "#TOWN\n",
    "#ZIPCODE\n",
    "#OWNERNAME\n",
    "#OWNERPHONE\n",
    "#BEDS\n",
    "#OFFICENAME"
   ]
  },
  {
   "cell_type": "markdown",
   "metadata": {},
   "source": [
    "<div class=\"alert alert-block alert-success\"><b>Step 10 (10 pts)</b>: For full credit in this problem you'll want to <i><u>take all necessary steps to report on the quality of the data</u></i> and <i><u>clean the data accordingly</u></i>. Some things to consider while doing this are listed below. <b>Depending on your data and goals, there may be additional steps needed than those listed here.</b>\n",
    "    \n",
    "1. Are there rows with missing or inconsistent values? If so, eliminate those rows from your data where appropriate.\n",
    "2. Are there any outliers or duplicate rows? If so, eliminate those rows from your data where appropriate. \n",
    "At each stage of cleaning the data, state how many rows were eliminated.\n",
    "3. Are you using all columns (variables) in the data? If not, are you eliminating those columns?\n",
    "4. Consider some type of visual display such as a boxplot to determine any outliers. Do any outliers need removed? If so, how many were removed?\n",
    "\n",
    "At each stage of cleaning the data, state how many rows were eliminated. <b><u><i>It is good practice to get the shape of the data before and after each step in cleaning the data and add typed explanations (in separate markdown cells) of the steps taken to clean the data.</i></u></b><br></div>\n",
    "    \n",
    "<div class=\"alert alert-block alert-info\">Include the rest of your work below and insert cells where needed.</div>"
   ]
  },
  {
   "cell_type": "code",
   "execution_count": 108,
   "metadata": {},
   "outputs": [
    {
     "data": {
      "text/plain": [
       "(192, 51)"
      ]
     },
     "execution_count": 108,
     "metadata": {},
     "output_type": "execute_result"
    }
   ],
   "source": [
    "#Check how many columns and records are in the dataset before dropping unnecessary columns\n",
    "WithdrawnHouses.shape"
   ]
  },
  {
   "cell_type": "code",
   "execution_count": 9,
   "metadata": {},
   "outputs": [
    {
     "data": {
      "text/plain": [
       "(97, 14)"
      ]
     },
     "execution_count": 9,
     "metadata": {},
     "output_type": "execute_result"
    }
   ],
   "source": [
    "#Delete all columns not needed for analysis\n",
    "WithdrawnHouses.drop(WithdrawnHouses.columns.difference(['SUBPROPTYPE','WITHDRAWNDATE','DAYSONMARKET','LISTPRICE','STYLE','STREETNAME','STREETNUMDISPLAY','TOWN','ZIPCODE','OWNERNAME','OWNERPHONE','BEDS','OFFICENAME','UNITNUM']), 1, inplace=True)\n",
    "\n",
    "#check the shape after the drop\n",
    "WithdrawnHouses.shape\n"
   ]
  },
  {
   "cell_type": "code",
   "execution_count": 10,
   "metadata": {},
   "outputs": [
    {
     "ename": "UFuncTypeError",
     "evalue": "ufunc 'add' did not contain a loop with signature matching types (dtype('<U21'), dtype('<U21')) -> dtype('<U21')",
     "output_type": "error",
     "traceback": [
      "\u001b[1;31m---------------------------------------------------------------------------\u001b[0m",
      "\u001b[1;31mUFuncTypeError\u001b[0m                            Traceback (most recent call last)",
      "\u001b[1;32m~\\anaconda3\\lib\\site-packages\\pandas\\core\\ops\\array_ops.py\u001b[0m in \u001b[0;36mna_arithmetic_op\u001b[1;34m(left, right, op, str_rep)\u001b[0m\n\u001b[0;32m    148\u001b[0m     \u001b[1;32mtry\u001b[0m\u001b[1;33m:\u001b[0m\u001b[1;33m\u001b[0m\u001b[1;33m\u001b[0m\u001b[0m\n\u001b[1;32m--> 149\u001b[1;33m         \u001b[0mresult\u001b[0m \u001b[1;33m=\u001b[0m \u001b[0mexpressions\u001b[0m\u001b[1;33m.\u001b[0m\u001b[0mevaluate\u001b[0m\u001b[1;33m(\u001b[0m\u001b[0mop\u001b[0m\u001b[1;33m,\u001b[0m \u001b[0mstr_rep\u001b[0m\u001b[1;33m,\u001b[0m \u001b[0mleft\u001b[0m\u001b[1;33m,\u001b[0m \u001b[0mright\u001b[0m\u001b[1;33m)\u001b[0m\u001b[1;33m\u001b[0m\u001b[1;33m\u001b[0m\u001b[0m\n\u001b[0m\u001b[0;32m    150\u001b[0m     \u001b[1;32mexcept\u001b[0m \u001b[0mTypeError\u001b[0m\u001b[1;33m:\u001b[0m\u001b[1;33m\u001b[0m\u001b[1;33m\u001b[0m\u001b[0m\n",
      "\u001b[1;32m~\\anaconda3\\lib\\site-packages\\pandas\\core\\computation\\expressions.py\u001b[0m in \u001b[0;36mevaluate\u001b[1;34m(op, op_str, a, b, use_numexpr)\u001b[0m\n\u001b[0;32m    207\u001b[0m     \u001b[1;32mif\u001b[0m \u001b[0muse_numexpr\u001b[0m\u001b[1;33m:\u001b[0m\u001b[1;33m\u001b[0m\u001b[1;33m\u001b[0m\u001b[0m\n\u001b[1;32m--> 208\u001b[1;33m         \u001b[1;32mreturn\u001b[0m \u001b[0m_evaluate\u001b[0m\u001b[1;33m(\u001b[0m\u001b[0mop\u001b[0m\u001b[1;33m,\u001b[0m \u001b[0mop_str\u001b[0m\u001b[1;33m,\u001b[0m \u001b[0ma\u001b[0m\u001b[1;33m,\u001b[0m \u001b[0mb\u001b[0m\u001b[1;33m)\u001b[0m\u001b[1;33m\u001b[0m\u001b[1;33m\u001b[0m\u001b[0m\n\u001b[0m\u001b[0;32m    209\u001b[0m     \u001b[1;32mreturn\u001b[0m \u001b[0m_evaluate_standard\u001b[0m\u001b[1;33m(\u001b[0m\u001b[0mop\u001b[0m\u001b[1;33m,\u001b[0m \u001b[0mop_str\u001b[0m\u001b[1;33m,\u001b[0m \u001b[0ma\u001b[0m\u001b[1;33m,\u001b[0m \u001b[0mb\u001b[0m\u001b[1;33m)\u001b[0m\u001b[1;33m\u001b[0m\u001b[1;33m\u001b[0m\u001b[0m\n",
      "\u001b[1;32m~\\anaconda3\\lib\\site-packages\\pandas\\core\\computation\\expressions.py\u001b[0m in \u001b[0;36m_evaluate_numexpr\u001b[1;34m(op, op_str, a, b)\u001b[0m\n\u001b[0;32m    120\u001b[0m     \u001b[1;32mif\u001b[0m \u001b[0mresult\u001b[0m \u001b[1;32mis\u001b[0m \u001b[1;32mNone\u001b[0m\u001b[1;33m:\u001b[0m\u001b[1;33m\u001b[0m\u001b[1;33m\u001b[0m\u001b[0m\n\u001b[1;32m--> 121\u001b[1;33m         \u001b[0mresult\u001b[0m \u001b[1;33m=\u001b[0m \u001b[0m_evaluate_standard\u001b[0m\u001b[1;33m(\u001b[0m\u001b[0mop\u001b[0m\u001b[1;33m,\u001b[0m \u001b[0mop_str\u001b[0m\u001b[1;33m,\u001b[0m \u001b[0ma\u001b[0m\u001b[1;33m,\u001b[0m \u001b[0mb\u001b[0m\u001b[1;33m)\u001b[0m\u001b[1;33m\u001b[0m\u001b[1;33m\u001b[0m\u001b[0m\n\u001b[0m\u001b[0;32m    122\u001b[0m \u001b[1;33m\u001b[0m\u001b[0m\n",
      "\u001b[1;32m~\\anaconda3\\lib\\site-packages\\pandas\\core\\computation\\expressions.py\u001b[0m in \u001b[0;36m_evaluate_standard\u001b[1;34m(op, op_str, a, b)\u001b[0m\n\u001b[0;32m     69\u001b[0m     \u001b[1;32mwith\u001b[0m \u001b[0mnp\u001b[0m\u001b[1;33m.\u001b[0m\u001b[0merrstate\u001b[0m\u001b[1;33m(\u001b[0m\u001b[0mall\u001b[0m\u001b[1;33m=\u001b[0m\u001b[1;34m\"ignore\"\u001b[0m\u001b[1;33m)\u001b[0m\u001b[1;33m:\u001b[0m\u001b[1;33m\u001b[0m\u001b[1;33m\u001b[0m\u001b[0m\n\u001b[1;32m---> 70\u001b[1;33m         \u001b[1;32mreturn\u001b[0m \u001b[0mop\u001b[0m\u001b[1;33m(\u001b[0m\u001b[0ma\u001b[0m\u001b[1;33m,\u001b[0m \u001b[0mb\u001b[0m\u001b[1;33m)\u001b[0m\u001b[1;33m\u001b[0m\u001b[1;33m\u001b[0m\u001b[0m\n\u001b[0m\u001b[0;32m     71\u001b[0m \u001b[1;33m\u001b[0m\u001b[0m\n",
      "\u001b[1;31mUFuncTypeError\u001b[0m: ufunc 'add' did not contain a loop with signature matching types (dtype('<U21'), dtype('<U21')) -> dtype('<U21')",
      "\nDuring handling of the above exception, another exception occurred:\n",
      "\u001b[1;31mUFuncTypeError\u001b[0m                            Traceback (most recent call last)",
      "\u001b[1;32m<ipython-input-10-dec194b59ee8>\u001b[0m in \u001b[0;36m<module>\u001b[1;34m\u001b[0m\n\u001b[0;32m      3\u001b[0m \u001b[1;33m\u001b[0m\u001b[0m\n\u001b[0;32m      4\u001b[0m \u001b[0mWithdrawnHouses\u001b[0m\u001b[1;33m[\u001b[0m\u001b[1;34m'Address'\u001b[0m\u001b[1;33m]\u001b[0m \u001b[1;33m=\u001b[0m \u001b[0mWithdrawnHouses\u001b[0m\u001b[1;33m[\u001b[0m\u001b[1;34m'STREETNUMDISPLAY'\u001b[0m\u001b[1;33m]\u001b[0m\u001b[1;33m+\u001b[0m \u001b[1;34m\" \"\u001b[0m \u001b[1;33m+\u001b[0m \u001b[0mWithdrawnHouses\u001b[0m\u001b[1;33m[\u001b[0m\u001b[1;34m'STREETNAME'\u001b[0m\u001b[1;33m]\u001b[0m\u001b[0;31m \u001b[0m\u001b[0;31m\\\u001b[0m\u001b[1;33m\u001b[0m\u001b[1;33m\u001b[0m\u001b[0m\n\u001b[1;32m----> 5\u001b[1;33m \u001b[1;33m+\u001b[0m \u001b[0mWithdrawnHouses\u001b[0m\u001b[1;33m[\u001b[0m\u001b[1;34m'UNITNUM'\u001b[0m\u001b[1;33m]\u001b[0m\u001b[1;33m+\u001b[0m \u001b[1;34m\" \"\u001b[0m\u001b[1;33m+\u001b[0m \u001b[0mWithdrawnHouses\u001b[0m\u001b[1;33m[\u001b[0m\u001b[1;34m'TOWN'\u001b[0m\u001b[1;33m]\u001b[0m \u001b[1;33m+\u001b[0m \u001b[1;34m\" \"\u001b[0m \u001b[1;33m+\u001b[0m \u001b[0mWithdrawnHouses\u001b[0m\u001b[1;33m[\u001b[0m\u001b[1;34m'ZIPCODE'\u001b[0m\u001b[1;33m]\u001b[0m\u001b[1;33m\u001b[0m\u001b[1;33m\u001b[0m\u001b[0m\n\u001b[0m\u001b[0;32m      6\u001b[0m \u001b[1;33m\u001b[0m\u001b[0m\n\u001b[0;32m      7\u001b[0m \u001b[1;31m#check the shape after the adding new field\u001b[0m\u001b[1;33m\u001b[0m\u001b[1;33m\u001b[0m\u001b[1;33m\u001b[0m\u001b[0m\n",
      "\u001b[1;32m~\\anaconda3\\lib\\site-packages\\pandas\\core\\ops\\common.py\u001b[0m in \u001b[0;36mnew_method\u001b[1;34m(self, other)\u001b[0m\n\u001b[0;32m     62\u001b[0m         \u001b[0mother\u001b[0m \u001b[1;33m=\u001b[0m \u001b[0mitem_from_zerodim\u001b[0m\u001b[1;33m(\u001b[0m\u001b[0mother\u001b[0m\u001b[1;33m)\u001b[0m\u001b[1;33m\u001b[0m\u001b[1;33m\u001b[0m\u001b[0m\n\u001b[0;32m     63\u001b[0m \u001b[1;33m\u001b[0m\u001b[0m\n\u001b[1;32m---> 64\u001b[1;33m         \u001b[1;32mreturn\u001b[0m \u001b[0mmethod\u001b[0m\u001b[1;33m(\u001b[0m\u001b[0mself\u001b[0m\u001b[1;33m,\u001b[0m \u001b[0mother\u001b[0m\u001b[1;33m)\u001b[0m\u001b[1;33m\u001b[0m\u001b[1;33m\u001b[0m\u001b[0m\n\u001b[0m\u001b[0;32m     65\u001b[0m \u001b[1;33m\u001b[0m\u001b[0m\n\u001b[0;32m     66\u001b[0m     \u001b[1;32mreturn\u001b[0m \u001b[0mnew_method\u001b[0m\u001b[1;33m\u001b[0m\u001b[1;33m\u001b[0m\u001b[0m\n",
      "\u001b[1;32m~\\anaconda3\\lib\\site-packages\\pandas\\core\\ops\\__init__.py\u001b[0m in \u001b[0;36mwrapper\u001b[1;34m(left, right)\u001b[0m\n\u001b[0;32m    498\u001b[0m         \u001b[0mlvalues\u001b[0m \u001b[1;33m=\u001b[0m \u001b[0mextract_array\u001b[0m\u001b[1;33m(\u001b[0m\u001b[0mleft\u001b[0m\u001b[1;33m,\u001b[0m \u001b[0mextract_numpy\u001b[0m\u001b[1;33m=\u001b[0m\u001b[1;32mTrue\u001b[0m\u001b[1;33m)\u001b[0m\u001b[1;33m\u001b[0m\u001b[1;33m\u001b[0m\u001b[0m\n\u001b[0;32m    499\u001b[0m         \u001b[0mrvalues\u001b[0m \u001b[1;33m=\u001b[0m \u001b[0mextract_array\u001b[0m\u001b[1;33m(\u001b[0m\u001b[0mright\u001b[0m\u001b[1;33m,\u001b[0m \u001b[0mextract_numpy\u001b[0m\u001b[1;33m=\u001b[0m\u001b[1;32mTrue\u001b[0m\u001b[1;33m)\u001b[0m\u001b[1;33m\u001b[0m\u001b[1;33m\u001b[0m\u001b[0m\n\u001b[1;32m--> 500\u001b[1;33m         \u001b[0mresult\u001b[0m \u001b[1;33m=\u001b[0m \u001b[0marithmetic_op\u001b[0m\u001b[1;33m(\u001b[0m\u001b[0mlvalues\u001b[0m\u001b[1;33m,\u001b[0m \u001b[0mrvalues\u001b[0m\u001b[1;33m,\u001b[0m \u001b[0mop\u001b[0m\u001b[1;33m,\u001b[0m \u001b[0mstr_rep\u001b[0m\u001b[1;33m)\u001b[0m\u001b[1;33m\u001b[0m\u001b[1;33m\u001b[0m\u001b[0m\n\u001b[0m\u001b[0;32m    501\u001b[0m \u001b[1;33m\u001b[0m\u001b[0m\n\u001b[0;32m    502\u001b[0m         \u001b[1;32mreturn\u001b[0m \u001b[0m_construct_result\u001b[0m\u001b[1;33m(\u001b[0m\u001b[0mleft\u001b[0m\u001b[1;33m,\u001b[0m \u001b[0mresult\u001b[0m\u001b[1;33m,\u001b[0m \u001b[0mindex\u001b[0m\u001b[1;33m=\u001b[0m\u001b[0mleft\u001b[0m\u001b[1;33m.\u001b[0m\u001b[0mindex\u001b[0m\u001b[1;33m,\u001b[0m \u001b[0mname\u001b[0m\u001b[1;33m=\u001b[0m\u001b[0mres_name\u001b[0m\u001b[1;33m)\u001b[0m\u001b[1;33m\u001b[0m\u001b[1;33m\u001b[0m\u001b[0m\n",
      "\u001b[1;32m~\\anaconda3\\lib\\site-packages\\pandas\\core\\ops\\array_ops.py\u001b[0m in \u001b[0;36marithmetic_op\u001b[1;34m(left, right, op, str_rep)\u001b[0m\n\u001b[0;32m    195\u001b[0m     \u001b[1;32melse\u001b[0m\u001b[1;33m:\u001b[0m\u001b[1;33m\u001b[0m\u001b[1;33m\u001b[0m\u001b[0m\n\u001b[0;32m    196\u001b[0m         \u001b[1;32mwith\u001b[0m \u001b[0mnp\u001b[0m\u001b[1;33m.\u001b[0m\u001b[0merrstate\u001b[0m\u001b[1;33m(\u001b[0m\u001b[0mall\u001b[0m\u001b[1;33m=\u001b[0m\u001b[1;34m\"ignore\"\u001b[0m\u001b[1;33m)\u001b[0m\u001b[1;33m:\u001b[0m\u001b[1;33m\u001b[0m\u001b[1;33m\u001b[0m\u001b[0m\n\u001b[1;32m--> 197\u001b[1;33m             \u001b[0mres_values\u001b[0m \u001b[1;33m=\u001b[0m \u001b[0mna_arithmetic_op\u001b[0m\u001b[1;33m(\u001b[0m\u001b[0mlvalues\u001b[0m\u001b[1;33m,\u001b[0m \u001b[0mrvalues\u001b[0m\u001b[1;33m,\u001b[0m \u001b[0mop\u001b[0m\u001b[1;33m,\u001b[0m \u001b[0mstr_rep\u001b[0m\u001b[1;33m)\u001b[0m\u001b[1;33m\u001b[0m\u001b[1;33m\u001b[0m\u001b[0m\n\u001b[0m\u001b[0;32m    198\u001b[0m \u001b[1;33m\u001b[0m\u001b[0m\n\u001b[0;32m    199\u001b[0m     \u001b[1;32mreturn\u001b[0m \u001b[0mres_values\u001b[0m\u001b[1;33m\u001b[0m\u001b[1;33m\u001b[0m\u001b[0m\n",
      "\u001b[1;32m~\\anaconda3\\lib\\site-packages\\pandas\\core\\ops\\array_ops.py\u001b[0m in \u001b[0;36mna_arithmetic_op\u001b[1;34m(left, right, op, str_rep)\u001b[0m\n\u001b[0;32m    149\u001b[0m         \u001b[0mresult\u001b[0m \u001b[1;33m=\u001b[0m \u001b[0mexpressions\u001b[0m\u001b[1;33m.\u001b[0m\u001b[0mevaluate\u001b[0m\u001b[1;33m(\u001b[0m\u001b[0mop\u001b[0m\u001b[1;33m,\u001b[0m \u001b[0mstr_rep\u001b[0m\u001b[1;33m,\u001b[0m \u001b[0mleft\u001b[0m\u001b[1;33m,\u001b[0m \u001b[0mright\u001b[0m\u001b[1;33m)\u001b[0m\u001b[1;33m\u001b[0m\u001b[1;33m\u001b[0m\u001b[0m\n\u001b[0;32m    150\u001b[0m     \u001b[1;32mexcept\u001b[0m \u001b[0mTypeError\u001b[0m\u001b[1;33m:\u001b[0m\u001b[1;33m\u001b[0m\u001b[1;33m\u001b[0m\u001b[0m\n\u001b[1;32m--> 151\u001b[1;33m         \u001b[0mresult\u001b[0m \u001b[1;33m=\u001b[0m \u001b[0mmasked_arith_op\u001b[0m\u001b[1;33m(\u001b[0m\u001b[0mleft\u001b[0m\u001b[1;33m,\u001b[0m \u001b[0mright\u001b[0m\u001b[1;33m,\u001b[0m \u001b[0mop\u001b[0m\u001b[1;33m)\u001b[0m\u001b[1;33m\u001b[0m\u001b[1;33m\u001b[0m\u001b[0m\n\u001b[0m\u001b[0;32m    152\u001b[0m \u001b[1;33m\u001b[0m\u001b[0m\n\u001b[0;32m    153\u001b[0m     \u001b[1;32mreturn\u001b[0m \u001b[0mmissing\u001b[0m\u001b[1;33m.\u001b[0m\u001b[0mdispatch_fill_zeros\u001b[0m\u001b[1;33m(\u001b[0m\u001b[0mop\u001b[0m\u001b[1;33m,\u001b[0m \u001b[0mleft\u001b[0m\u001b[1;33m,\u001b[0m \u001b[0mright\u001b[0m\u001b[1;33m,\u001b[0m \u001b[0mresult\u001b[0m\u001b[1;33m)\u001b[0m\u001b[1;33m\u001b[0m\u001b[1;33m\u001b[0m\u001b[0m\n",
      "\u001b[1;32m~\\anaconda3\\lib\\site-packages\\pandas\\core\\ops\\array_ops.py\u001b[0m in \u001b[0;36mmasked_arith_op\u001b[1;34m(x, y, op)\u001b[0m\n\u001b[0;32m    110\u001b[0m         \u001b[1;32mif\u001b[0m \u001b[0mmask\u001b[0m\u001b[1;33m.\u001b[0m\u001b[0many\u001b[0m\u001b[1;33m(\u001b[0m\u001b[1;33m)\u001b[0m\u001b[1;33m:\u001b[0m\u001b[1;33m\u001b[0m\u001b[1;33m\u001b[0m\u001b[0m\n\u001b[0;32m    111\u001b[0m             \u001b[1;32mwith\u001b[0m \u001b[0mnp\u001b[0m\u001b[1;33m.\u001b[0m\u001b[0merrstate\u001b[0m\u001b[1;33m(\u001b[0m\u001b[0mall\u001b[0m\u001b[1;33m=\u001b[0m\u001b[1;34m\"ignore\"\u001b[0m\u001b[1;33m)\u001b[0m\u001b[1;33m:\u001b[0m\u001b[1;33m\u001b[0m\u001b[1;33m\u001b[0m\u001b[0m\n\u001b[1;32m--> 112\u001b[1;33m                 \u001b[0mresult\u001b[0m\u001b[1;33m[\u001b[0m\u001b[0mmask\u001b[0m\u001b[1;33m]\u001b[0m \u001b[1;33m=\u001b[0m \u001b[0mop\u001b[0m\u001b[1;33m(\u001b[0m\u001b[0mxrav\u001b[0m\u001b[1;33m[\u001b[0m\u001b[0mmask\u001b[0m\u001b[1;33m]\u001b[0m\u001b[1;33m,\u001b[0m \u001b[0my\u001b[0m\u001b[1;33m)\u001b[0m\u001b[1;33m\u001b[0m\u001b[1;33m\u001b[0m\u001b[0m\n\u001b[0m\u001b[0;32m    113\u001b[0m \u001b[1;33m\u001b[0m\u001b[0m\n\u001b[0;32m    114\u001b[0m     \u001b[0mresult\u001b[0m\u001b[1;33m,\u001b[0m \u001b[0m_\u001b[0m \u001b[1;33m=\u001b[0m \u001b[0mmaybe_upcast_putmask\u001b[0m\u001b[1;33m(\u001b[0m\u001b[0mresult\u001b[0m\u001b[1;33m,\u001b[0m \u001b[1;33m~\u001b[0m\u001b[0mmask\u001b[0m\u001b[1;33m,\u001b[0m \u001b[0mnp\u001b[0m\u001b[1;33m.\u001b[0m\u001b[0mnan\u001b[0m\u001b[1;33m)\u001b[0m\u001b[1;33m\u001b[0m\u001b[1;33m\u001b[0m\u001b[0m\n",
      "\u001b[1;31mUFuncTypeError\u001b[0m: ufunc 'add' did not contain a loop with signature matching types (dtype('<U21'), dtype('<U21')) -> dtype('<U21')"
     ]
    }
   ],
   "source": [
    "#Create an address field by combining 4 existing fields, so I mail marketing material to the properties\n",
    "WithdrawnHouses.UNITNUM.fillna(value=\"-\", inplace=True)\n",
    "\n",
    "WithdrawnHouses['Address'] = WithdrawnHouses['STREETNUMDISPLAY']+ \" \" + WithdrawnHouses['STREETNAME'] \\\n",
    "+ WithdrawnHouses['UNITNUM']+ \" \"+ WithdrawnHouses['TOWN'] + \" \" + WithdrawnHouses['ZIPCODE']\n",
    "\n",
    "#check the shape after the adding new field\n",
    "WithdrawnHouses.shape"
   ]
  },
  {
   "cell_type": "code",
   "execution_count": 4,
   "metadata": {},
   "outputs": [
    {
     "name": "stdout",
     "output_type": "stream",
     "text": [
      "<class 'pandas.core.frame.DataFrame'>\n",
      "RangeIndex: 191 entries, 0 to 190\n",
      "Data columns (total 15 columns):\n",
      " #   Column            Non-Null Count  Dtype \n",
      "---  ------            --------------  ----- \n",
      " 0   BEDS              191 non-null    int64 \n",
      " 1   DAYSONMARKET      191 non-null    int64 \n",
      " 2   LISTPRICE         191 non-null    int64 \n",
      " 3   OWNERNAME         191 non-null    object\n",
      " 4   OWNERPHONE        24 non-null     object\n",
      " 5   STREETNAME        191 non-null    object\n",
      " 6   STREETNUMDISPLAY  191 non-null    object\n",
      " 7   TOWN              191 non-null    object\n",
      " 8   UNITNUM           191 non-null    object\n",
      " 9   WITHDRAWNDATE     191 non-null    object\n",
      " 10  ZIPCODE           191 non-null    object\n",
      " 11  STYLE             191 non-null    object\n",
      " 12  OFFICENAME        191 non-null    object\n",
      " 13  SUBPROPTYPE       191 non-null    object\n",
      " 14  Address           191 non-null    object\n",
      "dtypes: int64(3), object(12)\n",
      "memory usage: 22.5+ KB\n"
     ]
    }
   ],
   "source": [
    "#All remaining columns have no nulls except for Ownerphone all but 23 are NULL, it's good to have some phone numbers\n",
    "#Will keep this field inorder to call the owners\n",
    "WithdrawnHouses.info()"
   ]
  },
  {
   "cell_type": "code",
   "execution_count": 5,
   "metadata": {},
   "outputs": [
    {
     "data": {
      "text/plain": [
       "<matplotlib.axes._subplots.AxesSubplot at 0x1977f860948>"
      ]
     },
     "execution_count": 5,
     "metadata": {},
     "output_type": "execute_result"
    },
    {
     "data": {
      "image/png": "[encoded data removed]",
      "text/plain": [
       "<Figure size 432x288 with 1 Axes>"
      ]
     },
     "metadata": {
      "needs_background": "light"
     },
     "output_type": "display_data"
    }
   ],
   "source": [
    "WithdrawnHouses.boxplot(column=['BEDS'])"
   ]
  },
  {
   "cell_type": "code",
   "execution_count": 12,
   "metadata": {},
   "outputs": [
    {
     "data": {
      "image/png": "[encoded data removed]",
      "text/plain": [
       "<Figure size 432x288 with 1 Axes>"
      ]
     },
     "metadata": {
      "needs_background": "light"
     },
     "output_type": "display_data"
    }
   ],
   "source": [
    "#We see there are outliers where the listprice is over 2million, this is not an error Westfield is a very expensive town\n",
    "#with many million dollar houses, the records will be kept in the dataset and I will make these outliers a priority \n",
    "#in my marketing\n",
    "WithdrawnHouses.boxplot(column=['LISTPRICE'])\n",
    "\n",
    "WithdrawnHouses.to_excel(\"Withdrawn_TrimmedScotch.xlsx\")  "
   ]
  },
  {
   "cell_type": "markdown",
   "metadata": {},
   "source": [
    "<div class=\"alert alert-block alert-danger\"><b>STOP HERE for your EDA Phase 1 assignment. Submit your <i><u>cleaned</u></i> data file along with the completed notebook up to this point for grading.</b></div>"
   ]
  },
  {
   "cell_type": "markdown",
   "metadata": {},
   "source": [
    "# EDA Phase 2"
   ]
  },
  {
   "cell_type": "markdown",
   "metadata": {},
   "source": [
    "<div class=\"alert alert-block alert-info\">All of your work for the EDA Phase 2 assignment will begin below here. Refer to the detailed instructions and expectations for this assignment in Canvas.</div>"
   ]
  },
  {
   "cell_type": "code",
   "execution_count": null,
   "metadata": {},
   "outputs": [],
   "source": []
  }
 ],
 "metadata": {
  "kernelspec": {
   "display_name": "Python 3",
   "language": "python",
   "name": "python3"
  },
  "language_info": {
   "codemirror_mode": {
    "name": "ipython",
    "version": 3
   },
   "file_extension": ".py",
   "mimetype": "text/x-python",
   "name": "python",
   "nbconvert_exporter": "python",
   "pygments_lexer": "ipython3",
   "version": "3.7.6"
  }
 },
 "nbformat": 4,
 "nbformat_minor": 1
}
